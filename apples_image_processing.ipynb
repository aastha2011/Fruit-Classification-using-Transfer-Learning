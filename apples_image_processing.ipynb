{
 "cells": [
  {
   "cell_type": "code",
   "execution_count": 1,
   "metadata": {
    "colab": {
     "base_uri": "https://localhost:8080/",
     "height": 564
    },
    "id": "N1rlo9RUlXes",
    "outputId": "d4684019-df71-4a68-e444-84fabfb8001e"
   },
   "outputs": [
    {
     "name": "stdout",
     "output_type": "stream",
     "text": [
      "Downloading data from https://storage.googleapis.com/tensorflow/keras-applications/vgg16/vgg16_weights_tf_dim_ordering_tf_kernels.h5\n",
      "553467096/553467096 [==============================] - 47s 0us/step\n"
     ]
    },
    {
     "ename": "error",
     "evalue": "OpenCV(4.7.0) D:\\a\\opencv-python\\opencv-python\\opencv\\modules\\imgproc\\src\\resize.cpp:4062: error: (-215:Assertion failed) !ssize.empty() in function 'cv::resize'\n",
     "output_type": "error",
     "traceback": [
      "\u001b[1;31m---------------------------------------------------------------------------\u001b[0m",
      "\u001b[1;31merror\u001b[0m                                     Traceback (most recent call last)",
      "\u001b[1;32m~\\AppData\\Local\\Temp\\ipykernel_4056\\1622768399.py\u001b[0m in \u001b[0;36m<module>\u001b[1;34m\u001b[0m\n\u001b[0;32m     40\u001b[0m \u001b[1;33m\u001b[0m\u001b[0m\n\u001b[0;32m     41\u001b[0m \u001b[0mimggray\u001b[0m \u001b[1;33m=\u001b[0m \u001b[0mcv2\u001b[0m\u001b[1;33m.\u001b[0m\u001b[0mimread\u001b[0m\u001b[1;33m(\u001b[0m\u001b[1;34m'rotten.jpg'\u001b[0m\u001b[1;33m,\u001b[0m\u001b[1;36m0\u001b[0m\u001b[1;33m)\u001b[0m\u001b[1;33m\u001b[0m\u001b[1;33m\u001b[0m\u001b[0m\n\u001b[1;32m---> 42\u001b[1;33m \u001b[0mimggray\u001b[0m \u001b[1;33m=\u001b[0m \u001b[0mcv2\u001b[0m\u001b[1;33m.\u001b[0m\u001b[0mresize\u001b[0m\u001b[1;33m(\u001b[0m\u001b[0mimggray\u001b[0m\u001b[1;33m,\u001b[0m \u001b[1;33m(\u001b[0m\u001b[1;36m224\u001b[0m\u001b[1;33m,\u001b[0m \u001b[1;36m224\u001b[0m\u001b[1;33m)\u001b[0m\u001b[1;33m)\u001b[0m\u001b[1;33m\u001b[0m\u001b[1;33m\u001b[0m\u001b[0m\n\u001b[0m\u001b[0;32m     43\u001b[0m \u001b[1;33m\u001b[0m\u001b[0m\n\u001b[0;32m     44\u001b[0m \u001b[0mplt\u001b[0m\u001b[1;33m.\u001b[0m\u001b[0msubplot\u001b[0m\u001b[1;33m(\u001b[0m\u001b[1;36m2\u001b[0m\u001b[1;33m,\u001b[0m\u001b[1;36m10\u001b[0m\u001b[1;33m,\u001b[0m\u001b[1;36m1\u001b[0m\u001b[1;33m)\u001b[0m\u001b[1;33m,\u001b[0m\u001b[0mplt\u001b[0m\u001b[1;33m.\u001b[0m\u001b[0mimshow\u001b[0m\u001b[1;33m(\u001b[0m\u001b[0mimg\u001b[0m\u001b[1;33m)\u001b[0m\u001b[1;33m\u001b[0m\u001b[1;33m\u001b[0m\u001b[0m\n",
      "\u001b[1;31merror\u001b[0m: OpenCV(4.7.0) D:\\a\\opencv-python\\opencv-python\\opencv\\modules\\imgproc\\src\\resize.cpp:4062: error: (-215:Assertion failed) !ssize.empty() in function 'cv::resize'\n"
     ]
    },
    {
     "data": {
      "text/plain": [
       "<Figure size 3000x3000 with 0 Axes>"
      ]
     },
     "metadata": {},
     "output_type": "display_data"
    }
   ],
   "source": [
    "import cv2\n",
    "import numpy as np\n",
    "import matplotlib.pyplot as plt\n",
    "%matplotlib inline\n",
    "from tensorflow.keras.applications.vgg16 import VGG16, preprocess_input, decode_predictions\n",
    "\n",
    "def segmentedImage(road1):\n",
    "  vectorized = road1.reshape((-1,3))\n",
    "  vectorized = np.float32(vectorized)\n",
    "  criteria = (cv2.TERM_CRITERIA_EPS + cv2.TERM_CRITERIA_MAX_ITER, 10, 1.0)\n",
    "  K = 30\n",
    "  attempts=10\n",
    "  ret,label,center=cv2.kmeans(vectorized,K,None,criteria,attempts,cv2.KMEANS_PP_CENTERS)\n",
    "  center = np.uint8(center)\n",
    "  res = center[label.flatten()]\n",
    "  result_image = res.reshape((img.shape))\n",
    "  return result_image\n",
    "\n",
    "\n",
    "\n",
    "\n",
    "model = VGG16(weights='imagenet')\n",
    "\n",
    "def DCNN_Image(image):\n",
    "  img = np.expand_dims(image, axis=0)\n",
    "  img = preprocess_input(img)\n",
    "  preds = model.predict(img)\n",
    "  top_preds = decode_predictions(preds, top=1)[0]\n",
    "  return img.squeeze()\n",
    "\n",
    "\n",
    "\n",
    "road = cv2.imread('Dataset_Orange/Single_Pred/rottenoranges/rotten.jpeg')\n",
    "road = cv2.resize(road, (224, 224))\n",
    "road1 = cv2.cvtColor(road,cv2.COLOR_BGR2RGB)\n",
    "img=cv2.cvtColor(road1,cv2.COLOR_BGR2RGB)\n",
    "\n",
    "figure_size = 30\n",
    "plt.figure(figsize=(figure_size,figure_size))\n",
    "\n",
    "imggray = cv2.imread('rotten.jpg',0)\n",
    "imggray = cv2.resize(imggray, (224, 224))\n",
    "\n",
    "plt.subplot(2,10,1),plt.imshow(img)\n",
    "plt.title('Rotten Apple'), plt.xticks([]), plt.yticks([])\n",
    "\n",
    "ret, thresh1 = cv2.threshold(imggray,123,255,cv2.THRESH_BINARY)\n",
    "plt.subplot(2,10,2),plt.imshow(thresh1,cmap = 'gray')\n",
    "plt.title('Binary Segment'), plt.xticks([]), plt.yticks([])\n",
    "\n",
    "ret3,thresh3 = cv2.threshold(imggray,244,244,cv2.THRESH_TRUNC)\n",
    "plt.subplot(2,10,3),plt.imshow(thresh3,cmap = 'gray')\n",
    "plt.title('Truncated Segment'), plt.xticks([]), plt.yticks([])\n",
    "\n",
    "\n",
    "plt.subplot(2,10,4),plt.imshow(segmentedImage(road1))\n",
    "plt.title('Multilevel Segment (K=15)'), plt.xticks([]), plt.yticks([])\n",
    "\n",
    "\n",
    "plt.subplot(2,10,5),plt.imshow(DCNN_Image(road))\n",
    "plt.title('DCNN'), plt.xticks([]), plt.yticks([])\n",
    "\n",
    "\n",
    "\n",
    "\n",
    "road = cv2.imread('fresh.jpg')\n",
    "road = cv2.resize(road, (224, 224))\n",
    "road1 = cv2.cvtColor(road,cv2.COLOR_BGR2RGB)\n",
    "img=cv2.cvtColor(road1,cv2.COLOR_BGR2RGB)\n",
    "\n",
    "\n",
    "figure_size = 30\n",
    "plt.figure(figsize=(figure_size,figure_size))\n",
    "\n",
    "imggray = cv2.imread('Dataset_Orange/Single_Pred/freshoranges/fresh.jpeg',0)\n",
    "imggray = cv2.resize(imggray, (224, 224))\n",
    "\n",
    "plt.subplot(2,10,6),plt.imshow(img)\n",
    "plt.title('Fresh Apples'), plt.xticks([]), plt.yticks([])\n",
    "\n",
    "ret, thresh1 = cv2.threshold(imggray,123,255,cv2.THRESH_BINARY)\n",
    "plt.subplot(2,10,7),plt.imshow(thresh1,cmap = 'gray')\n",
    "plt.title('Binary Segment'), plt.xticks([]), plt.yticks([])\n",
    "\n",
    "ret3,thresh3 = cv2.threshold(imggray,244,244,cv2.THRESH_TRUNC)\n",
    "plt.subplot(2,10,8),plt.imshow(thresh3,cmap = 'gray')\n",
    "plt.title('Truncated Segment'), plt.xticks([]), plt.yticks([])\n",
    "\n",
    "\n",
    "plt.subplot(2,10,9),plt.imshow(segmentedImage(road1))\n",
    "plt.title('Multilevel Segment (K=15)'), plt.xticks([]), plt.yticks([])\n",
    "\n",
    "\n",
    "plt.subplot(2,10,10),plt.imshow(DCNN_Image(road))\n",
    "plt.title('DCNN'), plt.xticks([]), plt.yticks([])\n",
    "\n",
    "plt.show()"
   ]
  },
  {
   "cell_type": "code",
   "execution_count": null,
   "metadata": {},
   "outputs": [],
   "source": []
  }
 ],
 "metadata": {
  "colab": {
   "provenance": []
  },
  "kernelspec": {
   "display_name": "Python 3 (ipykernel)",
   "language": "python",
   "name": "python3"
  },
  "language_info": {
   "codemirror_mode": {
    "name": "ipython",
    "version": 3
   },
   "file_extension": ".py",
   "mimetype": "text/x-python",
   "name": "python",
   "nbconvert_exporter": "python",
   "pygments_lexer": "ipython3",
   "version": "3.9.13"
  }
 },
 "nbformat": 4,
 "nbformat_minor": 1
}
